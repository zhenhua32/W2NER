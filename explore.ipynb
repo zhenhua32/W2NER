{
 "cells": [
  {
   "cell_type": "code",
   "execution_count": 35,
   "metadata": {},
   "outputs": [],
   "source": [
    "import pandas as pd\n",
    "import numpy as np\n",
    "from transformers import AutoTokenizer"
   ]
  },
  {
   "cell_type": "code",
   "execution_count": 36,
   "metadata": {},
   "outputs": [],
   "source": [
    "tokenizer = AutoTokenizer.from_pretrained(\"D:\\\\code\\\\pretrain_model_dir\\\\bert-base-chinese\")"
   ]
  },
  {
   "cell_type": "code",
   "execution_count": 53,
   "metadata": {},
   "outputs": [],
   "source": [
    "instance = {\n",
    "    \"sentence\": [\"张\", \"雁\", \"冰\", \"，\", \"男\", \"，\"],\n",
    "    \"ner\": [{\"index\": [0, 1, 2], \"type\": \"NAME\"}],\n",
    "    \"word\": [[0, 1, 2], [3], [4], [5]],\n",
    "}"
   ]
  },
  {
   "cell_type": "code",
   "execution_count": 38,
   "metadata": {},
   "outputs": [],
   "source": [
    "dis2idx = np.zeros((1000), dtype=\"int64\")\n",
    "dis2idx[1] = 1\n",
    "dis2idx[2:] = 2\n",
    "dis2idx[4:] = 3\n",
    "dis2idx[8:] = 4\n",
    "dis2idx[16:] = 5\n",
    "dis2idx[32:] = 6\n",
    "dis2idx[64:] = 7\n",
    "dis2idx[128:] = 8\n",
    "dis2idx[256:] = 9"
   ]
  },
  {
   "cell_type": "code",
   "execution_count": 39,
   "metadata": {},
   "outputs": [],
   "source": [
    "length = 6"
   ]
  },
  {
   "cell_type": "code",
   "execution_count": 47,
   "metadata": {},
   "outputs": [],
   "source": [
    "_dist_inputs = np.zeros((length, length), dtype=int)"
   ]
  },
  {
   "cell_type": "code",
   "execution_count": 48,
   "metadata": {},
   "outputs": [],
   "source": [
    "for k in range(length):\n",
    "    _dist_inputs[k, :] += k\n",
    "    _dist_inputs[:, k] -= k"
   ]
  },
  {
   "cell_type": "code",
   "execution_count": 49,
   "metadata": {},
   "outputs": [
    {
     "data": {
      "text/plain": [
       "array([[ 0, -1, -2, -3, -4, -5],\n",
       "       [ 1,  0, -1, -2, -3, -4],\n",
       "       [ 2,  1,  0, -1, -2, -3],\n",
       "       [ 3,  2,  1,  0, -1, -2],\n",
       "       [ 4,  3,  2,  1,  0, -1],\n",
       "       [ 5,  4,  3,  2,  1,  0]])"
      ]
     },
     "execution_count": 49,
     "metadata": {},
     "output_type": "execute_result"
    }
   ],
   "source": [
    "_dist_inputs"
   ]
  },
  {
   "cell_type": "code",
   "execution_count": 50,
   "metadata": {},
   "outputs": [],
   "source": [
    "for i in range(length):\n",
    "    for j in range(length):\n",
    "        if _dist_inputs[i, j] < 0:\n",
    "            _dist_inputs[i, j] = dis2idx[-_dist_inputs[i, j]] + 9\n",
    "        else:\n",
    "            _dist_inputs[i, j] = dis2idx[_dist_inputs[i, j]]\n",
    "_dist_inputs[_dist_inputs == 0] = 19"
   ]
  },
  {
   "cell_type": "code",
   "execution_count": 51,
   "metadata": {},
   "outputs": [
    {
     "data": {
      "text/plain": [
       "array([[19, 10, 11, 11, 12, 12],\n",
       "       [ 1, 19, 10, 11, 11, 12],\n",
       "       [ 2,  1, 19, 10, 11, 11],\n",
       "       [ 2,  2,  1, 19, 10, 11],\n",
       "       [ 3,  2,  2,  1, 19, 10],\n",
       "       [ 3,  3,  2,  2,  1, 19]])"
      ]
     },
     "execution_count": 51,
     "metadata": {},
     "output_type": "execute_result"
    }
   ],
   "source": [
    "_dist_inputs"
   ]
  },
  {
   "cell_type": "code",
   "execution_count": 54,
   "metadata": {},
   "outputs": [],
   "source": [
    "tokens = [tokenizer.tokenize(word) for word in instance[\"sentence\"]]\n",
    "pieces = [piece for pieces in tokens for piece in pieces]\n",
    "_bert_inputs = tokenizer.convert_tokens_to_ids(pieces)\n",
    "_bert_inputs = np.array([tokenizer.cls_token_id] + _bert_inputs + [tokenizer.sep_token_id])"
   ]
  },
  {
   "cell_type": "code",
   "execution_count": 56,
   "metadata": {},
   "outputs": [],
   "source": [
    "# 输入的序列长度\n",
    "length = len(instance[\"sentence\"])\n",
    "# 不知道这几个矩阵有啥用, 看图应该是核心结构\n",
    "_grid_labels = np.zeros((length, length), dtype=np.int32)\n",
    "_pieces2word = np.zeros((length, len(_bert_inputs)), dtype=np.bool_)\n",
    "_dist_inputs = np.zeros((length, length), dtype=np.int32)\n",
    "_grid_mask2d = np.ones((length, length), dtype=np.bool_)"
   ]
  },
  {
   "cell_type": "code",
   "execution_count": 57,
   "metadata": {},
   "outputs": [],
   "source": [
    "if tokenizer is not None:\n",
    "    start = 0\n",
    "    for i, pieces in enumerate(tokens):\n",
    "        if len(pieces) == 0:\n",
    "            continue\n",
    "        # [start: start+N], N 是词块的长度\n",
    "        pieces = list(range(start, start + len(pieces)))\n",
    "        # 填充 _pieces2word, i 是序列的第 N 个词, [start+1: start+N+2] = 1\n",
    "        _pieces2word[i, pieces[0] + 1 : pieces[-1] + 2] = 1\n",
    "        start += len(pieces)"
   ]
  },
  {
   "cell_type": "code",
   "execution_count": 58,
   "metadata": {},
   "outputs": [],
   "source": [
    "for k in range(length):\n",
    "    _dist_inputs[k, :] += k\n",
    "    _dist_inputs[:, k] -= k"
   ]
  },
  {
   "cell_type": "code",
   "execution_count": 59,
   "metadata": {},
   "outputs": [
    {
     "data": {
      "text/plain": [
       "array([[ 0, -1, -2, -3, -4, -5],\n",
       "       [ 1,  0, -1, -2, -3, -4],\n",
       "       [ 2,  1,  0, -1, -2, -3],\n",
       "       [ 3,  2,  1,  0, -1, -2],\n",
       "       [ 4,  3,  2,  1,  0, -1],\n",
       "       [ 5,  4,  3,  2,  1,  0]])"
      ]
     },
     "execution_count": 59,
     "metadata": {},
     "output_type": "execute_result"
    }
   ],
   "source": [
    "_dist_inputs"
   ]
  },
  {
   "cell_type": "code",
   "execution_count": 60,
   "metadata": {},
   "outputs": [],
   "source": [
    "for i in range(length):\n",
    "    for j in range(length):\n",
    "        if _dist_inputs[i, j] < 0:\n",
    "            _dist_inputs[i, j] = dis2idx[-_dist_inputs[i, j]] + 9\n",
    "        else:\n",
    "            _dist_inputs[i, j] = dis2idx[_dist_inputs[i, j]]\n",
    "_dist_inputs[_dist_inputs == 0] = 19"
   ]
  },
  {
   "cell_type": "code",
   "execution_count": 61,
   "metadata": {},
   "outputs": [
    {
     "data": {
      "text/plain": [
       "array([[19, 10, 11, 11, 12, 12],\n",
       "       [ 1, 19, 10, 11, 11, 12],\n",
       "       [ 2,  1, 19, 10, 11, 11],\n",
       "       [ 2,  2,  1, 19, 10, 11],\n",
       "       [ 3,  2,  2,  1, 19, 10],\n",
       "       [ 3,  3,  2,  2,  1, 19]])"
      ]
     },
     "execution_count": 61,
     "metadata": {},
     "output_type": "execute_result"
    }
   ],
   "source": [
    "_dist_inputs"
   ]
  },
  {
   "cell_type": "code",
   "execution_count": 69,
   "metadata": {},
   "outputs": [
    {
     "name": "stdout",
     "output_type": "stream",
     "text": [
      "[0, 1, 2]\n",
      "0 3\n",
      "1 3\n",
      "2 3\n",
      "break 2\n"
     ]
    }
   ],
   "source": [
    "for entity in instance[\"ner\"]:\n",
    "    index = entity[\"index\"]\n",
    "    print(index)\n",
    "    for i in range(len(index)):\n",
    "        print(i, len(index))\n",
    "        if i + 1 >= len(index):\n",
    "            print(\"break\", i)\n",
    "            break\n",
    "        _grid_labels[index[i], index[i + 1]] = 1\n",
    "    # _grid_labels[index[-1], index[0]] = vocab.label_to_id(entity[\"type\"])\n",
    "    _grid_labels[index[-1], index[0]] = 10"
   ]
  },
  {
   "cell_type": "code",
   "execution_count": 66,
   "metadata": {},
   "outputs": [
    {
     "data": {
      "text/plain": [
       "array([[ 0,  1,  0,  0,  0,  0],\n",
       "       [ 0,  0,  1,  0,  0,  0],\n",
       "       [10,  0,  0,  0,  0,  0],\n",
       "       [ 0,  0,  0,  0,  0,  0],\n",
       "       [ 0,  0,  0,  0,  0,  0],\n",
       "       [ 0,  0,  0,  0,  0,  0]])"
      ]
     },
     "execution_count": 66,
     "metadata": {},
     "output_type": "execute_result"
    }
   ],
   "source": [
    "_grid_labels"
   ]
  },
  {
   "cell_type": "code",
   "execution_count": 70,
   "metadata": {},
   "outputs": [],
   "source": [
    "def convert_index_to_text(index, type):\n",
    "    text = \"-\".join([str(i) for i in index])\n",
    "    text = text + \"-#-{}\".format(type)\n",
    "    return text"
   ]
  },
  {
   "cell_type": "code",
   "execution_count": 72,
   "metadata": {},
   "outputs": [
    {
     "data": {
      "text/plain": [
       "'0-1-2-#-NAME'"
      ]
     },
     "execution_count": 72,
     "metadata": {},
     "output_type": "execute_result"
    }
   ],
   "source": [
    "convert_index_to_text([0, 1, 2], \"NAME\")"
   ]
  }
 ],
 "metadata": {
  "kernelspec": {
   "display_name": "Python 3.8.12 ('nlp')",
   "language": "python",
   "name": "python3"
  },
  "language_info": {
   "codemirror_mode": {
    "name": "ipython",
    "version": 3
   },
   "file_extension": ".py",
   "mimetype": "text/x-python",
   "name": "python",
   "nbconvert_exporter": "python",
   "pygments_lexer": "ipython3",
   "version": "3.8.12"
  },
  "orig_nbformat": 4,
  "vscode": {
   "interpreter": {
    "hash": "b7c70413a5810a6397efd487546398fda6db6fc006e875c25a748979a67c1938"
   }
  }
 },
 "nbformat": 4,
 "nbformat_minor": 2
}
