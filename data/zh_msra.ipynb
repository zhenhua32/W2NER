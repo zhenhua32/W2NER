{
 "cells": [
  {
   "cell_type": "code",
   "execution_count": 3,
   "metadata": {},
   "outputs": [],
   "source": [
    "import pandas as pd\n",
    "import json\n",
    "import os\n",
    "from collections import defaultdict"
   ]
  },
  {
   "cell_type": "markdown",
   "metadata": {},
   "source": [
    "将 zh_msra_origin 转换成 w2ner 需要的格式, word 没用到, 就不构建了"
   ]
  },
  {
   "cell_type": "code",
   "execution_count": 4,
   "metadata": {},
   "outputs": [],
   "source": [
    "input_dir = r\"D:\\code\\github\\W2NER\\data\\zh_msra_origin\"\n",
    "output_dir = r\"D:\\code\\github\\W2NER\\data\\zh_msra\"\n",
    "os.makedirs(output_dir, exist_ok=True)"
   ]
  },
  {
   "cell_type": "code",
   "execution_count": 10,
   "metadata": {},
   "outputs": [],
   "source": [
    "def convert_file(input_file, output_file):\n",
    "    # 真离谱, 这里有序列非常长的\n",
    "    with open(input_file, \"r\", encoding=\"utf-8\") as f:\n",
    "        data = json.load(f)\n",
    "    \n",
    "    # 简单来说, 因为只有 3 个标签, 所以每 3 行是一个完整的数据\n",
    "    # 但还是 dict 来保存数据好了\n",
    "    result = defaultdict(list)\n",
    "    for line in data:\n",
    "        context = line[\"context\"]\n",
    "        entity_label = line[\"entity_label\"]\n",
    "        ner_list = []\n",
    "        for item in line[\"span_position\"]:\n",
    "            start, end = map(int, item.split(\";\"))\n",
    "            ner_list.append({\"type\": entity_label, \"index\": list(range(start, end+1))})\n",
    "        result[context].extend(ner_list)\n",
    "    \n",
    "    # 排序下 ner_list\n",
    "    data_list = []\n",
    "    for sentence, ner_list in result.items():\n",
    "        sentence = sentence.split()\n",
    "        # 先跳过长度太长的, 模型不支持\n",
    "        # 太长的序列, GPU 内存直接爆炸了, 再降点\n",
    "        if len(sentence) > 124:\n",
    "            continue\n",
    "        ner_list = sorted(ner_list, key=lambda x:x[\"index\"])\n",
    "        data_list.append({\"sentence\": sentence, \"ner\": ner_list})\n",
    "    print(len(data_list))\n",
    "\n",
    "    # 生成文件\n",
    "    with open(output_file, \"w\", encoding=\"utf-8\") as f:\n",
    "        json.dump(data_list, f, ensure_ascii=False, indent=2)"
   ]
  },
  {
   "cell_type": "code",
   "execution_count": 11,
   "metadata": {},
   "outputs": [
    {
     "name": "stdout",
     "output_type": "stream",
     "text": [
      "4538\n",
      "4241\n",
      "41005\n"
     ]
    }
   ],
   "source": [
    "for file in os.listdir(input_dir):\n",
    "    input_file = os.path.join(input_dir, file)\n",
    "    output_file = os.path.join(output_dir, file.split(\".\")[-1]+\".json\")\n",
    "    convert_file(input_file, output_file)"
   ]
  }
 ],
 "metadata": {
  "kernelspec": {
   "display_name": "Python 3.8.12 ('nlp')",
   "language": "python",
   "name": "python3"
  },
  "language_info": {
   "codemirror_mode": {
    "name": "ipython",
    "version": 3
   },
   "file_extension": ".py",
   "mimetype": "text/x-python",
   "name": "python",
   "nbconvert_exporter": "python",
   "pygments_lexer": "ipython3",
   "version": "3.8.12"
  },
  "orig_nbformat": 4,
  "vscode": {
   "interpreter": {
    "hash": "b7c70413a5810a6397efd487546398fda6db6fc006e875c25a748979a67c1938"
   }
  }
 },
 "nbformat": 4,
 "nbformat_minor": 2
}
